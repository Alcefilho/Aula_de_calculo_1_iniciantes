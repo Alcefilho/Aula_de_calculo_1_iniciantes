{
  "nbformat": 4,
  "nbformat_minor": 0,
  "metadata": {
    "colab": {
      "name": "Cálculo1.ipynb",
      "provenance": []
    },
    "kernelspec": {
      "name": "python3",
      "display_name": "Python 3"
    }
  },
  "cells": [
    {
      "cell_type": "markdown",
      "metadata": {
        "id": "Zk--7lCeVOIy",
        "colab_type": "text"
      },
      "source": [
        "#**INTRODUÇÃO**"
      ]
    },
    {
      "cell_type": "markdown",
      "metadata": {
        "id": "THPbWfeiTNwn",
        "colab_type": "text"
      },
      "source": [
        "Primeiramente deveremos falar das operações matematicas **básicas** do python como :\n",
        "\n",
        "\n",
        "*   '+' soma \n",
        "*   '-' subtração\n",
        "*   '/' divisão\n",
        "*   '*' multiplicação\n",
        "*   '**' potenciação \n",
        "\n",
        "Agora falaremos um pouco do dominio dos numeros, em linguaguem de computação temos definições de numeros assim como na matématica, porém a linguaguem é um pouco diferente da matematica usual, não mostramos para o computador os numeros reais como **R** ( estamos abtuados com isso) porém em python os numeros tem as seguintes categorias:\n"
      ]
    },
    {
      "cell_type": "markdown",
      "metadata": {
        "id": "7UHnmGn6TN7n",
        "colab_type": "text"
      },
      "source": [
        "*   Inteiro -> **int**"
      ]
    },
    {
      "cell_type": "code",
      "metadata": {
        "id": "Ou_AuF9gD6lf",
        "colab_type": "code",
        "colab": {
          "base_uri": "https://localhost:8080/",
          "height": 34
        },
        "outputId": "7c8b0934-e1d0-4f50-ae28-0bd13e9d2ad8"
      },
      "source": [
        "a=2\n",
        "type(a)"
      ],
      "execution_count": null,
      "outputs": [
        {
          "output_type": "execute_result",
          "data": {
            "text/plain": [
              "int"
            ]
          },
          "metadata": {
            "tags": []
          },
          "execution_count": 1
        }
      ]
    },
    {
      "cell_type": "markdown",
      "metadata": {
        "id": "n0qhbCgqVeM-",
        "colab_type": "text"
      },
      "source": [
        "* Reais -> **float**"
      ]
    },
    {
      "cell_type": "code",
      "metadata": {
        "id": "9SR7if64WJHX",
        "colab_type": "code",
        "colab": {
          "base_uri": "https://localhost:8080/",
          "height": 34
        },
        "outputId": "2ded4f8a-628b-4e20-b550-000824d5d9f0"
      },
      "source": [
        "b=0.345\n",
        "type(b)"
      ],
      "execution_count": null,
      "outputs": [
        {
          "output_type": "execute_result",
          "data": {
            "text/plain": [
              "float"
            ]
          },
          "metadata": {
            "tags": []
          },
          "execution_count": 2
        }
      ]
    },
    {
      "cell_type": "markdown",
      "metadata": {
        "id": "ZrpIGUCfVeTz",
        "colab_type": "text"
      },
      "source": [
        "* Complexos -> **complex**"
      ]
    },
    {
      "cell_type": "code",
      "metadata": {
        "id": "uvJ7K7WeWiaL",
        "colab_type": "code",
        "colab": {
          "base_uri": "https://localhost:8080/",
          "height": 34
        },
        "outputId": "ed0c7a3e-8c21-4df6-d973-d00c9b9dc09b"
      },
      "source": [
        " c=3+10j\n",
        " type(c)"
      ],
      "execution_count": null,
      "outputs": [
        {
          "output_type": "execute_result",
          "data": {
            "text/plain": [
              "complex"
            ]
          },
          "metadata": {
            "tags": []
          },
          "execution_count": 3
        }
      ]
    },
    {
      "cell_type": "markdown",
      "metadata": {
        "id": "BHwKh4alVeag",
        "colab_type": "text"
      },
      "source": [
        "##**Função Lambda** "
      ]
    },
    {
      "cell_type": "markdown",
      "metadata": {
        "id": "03KSI3btXbK9",
        "colab_type": "text"
      },
      "source": [
        "Não vou entrar em super detalhes pois essa função é um topico intermediario da linguaguem python mas basicamente são funções anônimas que podem ser criadas com a palavra-chave lambda. Essa função recebe parâmetros (mais de 1, ou seja, pode receber 'x' e 'y') e retorna um valor depois que feita uma operação, é basicamente uma f(x) ou f(x,y) que vocês estão abtuados.\n",
        "\n",
        "Farei aqui apenas para **uma** variavel, pois estamos tentando resolver apenas exericios de cálculo de uma variavel, que é o **cálculo 1**."
      ]
    },
    {
      "cell_type": "markdown",
      "metadata": {
        "id": "eexzNda0XbuA",
        "colab_type": "text"
      },
      "source": [
        "##**Sintaxe da função Lambda**\n",
        "O passo a passo para formação de uma função lambda:\n",
        "* Definimos a função com a palavra lambda\n",
        "* Após definir a função os parâmetros devem ser inseridos\n",
        "* Colocamos : após os parâmetros\n",
        "* Inserimos a lógica da função\n",
        "* Podemos definir uma variável para a função lambda"
      ]
    },
    {
      "cell_type": "code",
      "metadata": {
        "id": "p3r_50dfZT0Y",
        "colab_type": "code",
        "colab": {}
      },
      "source": [
        "# Exemplo de uma função lambda\n",
        "g = lambda x, y : x + y\n"
      ],
      "execution_count": null,
      "outputs": []
    },
    {
      "cell_type": "code",
      "metadata": {
        "id": "7Ccu2dJAab-t",
        "colab_type": "code",
        "colab": {
          "base_uri": "https://localhost:8080/",
          "height": 34
        },
        "outputId": "4a7ce479-5ca0-4c66-dd90-be874c5ffe15"
      },
      "source": [
        "# agora basta chamar a função (f) e por os valores dos parâmetros \n",
        "g(1,2)"
      ],
      "execution_count": null,
      "outputs": [
        {
          "output_type": "execute_result",
          "data": {
            "text/plain": [
              "3"
            ]
          },
          "metadata": {
            "tags": []
          },
          "execution_count": 6
        }
      ]
    },
    {
      "cell_type": "markdown",
      "metadata": {
        "id": "Z652h-8wXb7C",
        "colab_type": "text"
      },
      "source": [
        "##**Utilizando a biblioteca Sympy**"
      ]
    },
    {
      "cell_type": "markdown",
      "metadata": {
        "id": "ZKGFhyOmXcCw",
        "colab_type": "text"
      },
      "source": [
        "A linguaguem Python é **poderosa** pelo vasto números de bibliotecas que nada mais é do que uma coleção de funções. Um programa pode utilizar recursos de uma biblioteca a fim de contribuir para alcançar seu objetivo. Um **módulo** é um arquivo Python (*.py) com instruções e comandos. Um módulo é executado quando é importado."
      ]
    },
    {
      "cell_type": "code",
      "metadata": {
        "id": "5DC2CRjZcSsl",
        "colab_type": "code",
        "colab": {}
      },
      "source": [
        "# Podemos importar bibliotecas com o seguinte comando:\n",
        "import sympy as sym\n",
        "# Sempre usar o import (nome da biblioteca) as (apelido da biblioteca)"
      ],
      "execution_count": 50,
      "outputs": []
    },
    {
      "cell_type": "code",
      "metadata": {
        "id": "fgihfXHzcl_a",
        "colab_type": "code",
        "colab": {}
      },
      "source": [
        "# Podemos importar os módulos dessas bibliotecas da seguinte maneira:\n",
        "from sympy import *\n",
        "init_printing()\n",
        "# seleciona a melhor saída disponível (não se assunte isso é apenas para melhorar a saída do codigo no ambiente que estou trabalhando(python))"
      ],
      "execution_count": 51,
      "outputs": []
    },
    {
      "cell_type": "markdown",
      "metadata": {
        "id": "u7Q9R_jJXcKZ",
        "colab_type": "text"
      },
      "source": [
        "Agora que já importamos o que precisavamos, mãos a obra \n"
      ]
    },
    {
      "cell_type": "markdown",
      "metadata": {
        "id": "fRKn5YHDeEfU",
        "colab_type": "text"
      },
      "source": [
        "##**Definindo a variável independente e dependente** "
      ]
    },
    {
      "cell_type": "markdown",
      "metadata": {
        "id": "C4LRXCS2eN31",
        "colab_type": "text"
      },
      "source": [
        "Como estamos abtuados iremos trabalhar como  X sendo a variavel independente e Y a variavel dependente, ou seja, y=f(x), para fazermos isso iremos utliizar o comando:"
      ]
    },
    {
      "cell_type": "code",
      "metadata": {
        "id": "f3QaXXPuyvWw",
        "colab_type": "code",
        "colab": {}
      },
      "source": [
        "from IPython.display import HTML, Math\n",
        "def mview(e):\n",
        "  display(HTML(\"<script src='https://cdnjs.cloudflare.com/ajax/libs/mathjax/2.7.3/\"\n",
        "         \"latest.js?config=default'></script>\"))\n",
        "  return Math(latex(e))"
      ],
      "execution_count": 52,
      "outputs": []
    },
    {
      "cell_type": "code",
      "metadata": {
        "id": "92KRrZT-XcTU",
        "colab_type": "code",
        "colab": {
          "base_uri": "https://localhost:8080/",
          "height": 37
        },
        "outputId": "32433d3f-bbad-4196-8b2f-2f85c778aae5"
      },
      "source": [
        "init_printing()\n",
        "x, y = sym.symbols('x y')\n",
        "mview(var(' x y'))\n",
        "# define x e y como variaveis simbolicas "
      ],
      "execution_count": 53,
      "outputs": [
        {
          "output_type": "display_data",
          "data": {
            "text/html": [
              "<script src='https://cdnjs.cloudflare.com/ajax/libs/mathjax/2.7.3/latest.js?config=default'></script>"
            ],
            "text/plain": [
              "<IPython.core.display.HTML object>"
            ]
          },
          "metadata": {
            "tags": []
          }
        },
        {
          "output_type": "execute_result",
          "data": {
            "text/latex": "$$\\left ( x, \\quad y\\right )$$",
            "text/plain": [
              "<IPython.core.display.Math object>"
            ]
          },
          "metadata": {
            "tags": []
          },
          "execution_count": 53
        }
      ]
    },
    {
      "cell_type": "code",
      "metadata": {
        "id": "Hf3CWkpqjBbr",
        "colab_type": "code",
        "colab": {
          "base_uri": "https://localhost:8080/",
          "height": 38
        },
        "outputId": "888a42aa-a196-413a-b5ba-aca270e83bc5"
      },
      "source": [
        "f = Lambda(x, (x**2 - 6*x + 2)/x)\n",
        "mview(f)"
      ],
      "execution_count": 54,
      "outputs": [
        {
          "output_type": "display_data",
          "data": {
            "text/html": [
              "<script src='https://cdnjs.cloudflare.com/ajax/libs/mathjax/2.7.3/latest.js?config=default'></script>"
            ],
            "text/plain": [
              "<IPython.core.display.HTML object>"
            ]
          },
          "metadata": {
            "tags": []
          }
        },
        {
          "output_type": "execute_result",
          "data": {
            "text/latex": "$$\\left( x \\mapsto \\frac{1}{x} \\left(x^{2} - 6 x + 2\\right) \\right)$$",
            "text/plain": [
              "<IPython.core.display.Math object>"
            ]
          },
          "metadata": {
            "tags": []
          },
          "execution_count": 54
        }
      ]
    },
    {
      "cell_type": "code",
      "metadata": {
        "id": "cAacXyxYo-IL",
        "colab_type": "code",
        "colab": {
          "base_uri": "https://localhost:8080/",
          "height": 36
        },
        "outputId": "7f70ee6c-13e8-4e91-bb22-7476cc6fb624"
      },
      "source": [
        "mview(f(1))"
      ],
      "execution_count": 55,
      "outputs": [
        {
          "output_type": "display_data",
          "data": {
            "text/html": [
              "<script src='https://cdnjs.cloudflare.com/ajax/libs/mathjax/2.7.3/latest.js?config=default'></script>"
            ],
            "text/plain": [
              "<IPython.core.display.HTML object>"
            ]
          },
          "metadata": {
            "tags": []
          }
        },
        {
          "output_type": "execute_result",
          "data": {
            "text/latex": "$$-3$$",
            "text/plain": [
              "<IPython.core.display.Math object>"
            ]
          },
          "metadata": {
            "tags": []
          },
          "execution_count": 55
        }
      ]
    },
    {
      "cell_type": "code",
      "metadata": {
        "id": "njx2R_VAr2xW",
        "colab_type": "code",
        "colab": {
          "base_uri": "https://localhost:8080/",
          "height": 47
        },
        "outputId": "77eae8b2-286c-4fbe-e8d9-4d474ec390c3"
      },
      "source": [
        "mview(f(x-2))\n"
      ],
      "execution_count": 56,
      "outputs": [
        {
          "output_type": "display_data",
          "data": {
            "text/html": [
              "<script src='https://cdnjs.cloudflare.com/ajax/libs/mathjax/2.7.3/latest.js?config=default'></script>"
            ],
            "text/plain": [
              "<IPython.core.display.HTML object>"
            ]
          },
          "metadata": {
            "tags": []
          }
        },
        {
          "output_type": "execute_result",
          "data": {
            "text/latex": "$$\\frac{1}{x - 2} \\left(- 6 x + \\left(x - 2\\right)^{2} + 14\\right)$$",
            "text/plain": [
              "<IPython.core.display.Math object>"
            ]
          },
          "metadata": {
            "tags": []
          },
          "execution_count": 56
        }
      ]
    },
    {
      "cell_type": "markdown",
      "metadata": {
        "id": "wUVuejI8sqod",
        "colab_type": "text"
      },
      "source": [
        "#**1- LIMITES**"
      ]
    },
    {
      "cell_type": "markdown",
      "metadata": {
        "id": "wm9mu9qeVeYb",
        "colab_type": "text"
      },
      "source": [
        "*  Limites pontuais\n",
        "*  Limites laterais\n",
        "*  Limites no infitino\n",
        "\n"
      ]
    },
    {
      "cell_type": "markdown",
      "metadata": {
        "id": "gAnlEfA_s7uW",
        "colab_type": "text"
      },
      "source": [
        "##**Limites pontuais**"
      ]
    },
    {
      "cell_type": "markdown",
      "metadata": {
        "id": "dGWM1f_GtCN9",
        "colab_type": "text"
      },
      "source": [
        "Bem, sabemos que limite é quando uma função **tende** para algum número, como podemos ver a baixo :\n",
        "\n",
        "![alt text](https://www.somatematica.com.br/superior/limites/limite4.gif)\n",
        "\n"
      ]
    },
    {
      "cell_type": "markdown",
      "metadata": {
        "id": "drutY-4GtCar",
        "colab_type": "text"
      },
      "source": [
        "Essa função f(x) pode ser qualquer função, por isso escrevi bem geral. O limite nada mais é do que um número, essa função f(x) tenderá para esse numero caso x tender para um valor **a**. Facil não?\n",
        "\n",
        "Agora veremos em Python como fazer isso. "
      ]
    },
    {
      "cell_type": "code",
      "metadata": {
        "id": "kAzw6w0YtCoJ",
        "colab_type": "code",
        "colab": {
          "base_uri": "https://localhost:8080/",
          "height": 36
        },
        "outputId": "b2595a43-48ca-4e3d-d962-8fe559edc373"
      },
      "source": [
        "# Usaremos a função limit \n",
        "# primeiro parâmetro será a função onde você quer calcular o limite\n",
        "# segundo parâmetro será a variavel independente \n",
        "# terceiro parâmetro será em qual ponto você quer calcular o limite \n",
        "\n",
        "mview(limit(f(x),x,0))\n",
        "\n",
        "#Note que o mview() apenas tranforma o resultado em linguaguem LATEX, pois o google colab não a lêe diretamente."
      ],
      "execution_count": 10,
      "outputs": [
        {
          "output_type": "display_data",
          "data": {
            "text/html": [
              "<script src='https://cdnjs.cloudflare.com/ajax/libs/mathjax/2.7.3/latest.js?config=default'></script>"
            ],
            "text/plain": [
              "<IPython.core.display.HTML object>"
            ]
          },
          "metadata": {
            "tags": []
          }
        },
        {
          "output_type": "execute_result",
          "data": {
            "text/latex": "$$\\infty$$",
            "text/plain": [
              "<IPython.core.display.Math object>"
            ]
          },
          "metadata": {
            "tags": []
          },
          "execution_count": 10
        }
      ]
    },
    {
      "cell_type": "code",
      "metadata": {
        "id": "GVsUF5CLvqAR",
        "colab_type": "code",
        "colab": {
          "base_uri": "https://localhost:8080/",
          "height": 36
        },
        "outputId": "51470077-86ef-4a1b-e432-81c4753ab780"
      },
      "source": [
        "# Sem o mview\n",
        "limit(f(x),x,0)"
      ],
      "execution_count": 11,
      "outputs": [
        {
          "output_type": "execute_result",
          "data": {
            "image/png": "[encoded data removed]",
            "text/latex": "$$\\infty$$",
            "text/plain": [
              "∞"
            ]
          },
          "metadata": {
            "tags": []
          },
          "execution_count": 11
        }
      ]
    },
    {
      "cell_type": "code",
      "metadata": {
        "id": "N0hg_Ks0vyi3",
        "colab_type": "code",
        "colab": {}
      },
      "source": [
        "#Percebeu? Fica esses sinais de $$ o que não é bonito, então por isso usaremos o mview()"
      ],
      "execution_count": 12,
      "outputs": []
    },
    {
      "cell_type": "markdown",
      "metadata": {
        "id": "FRo-6Hbqv-p-",
        "colab_type": "text"
      },
      "source": [
        "Fácil não? Agora é so pegar prática na hora de escrever a função f(x) pois as funções matematicas nas linguaguens computacionais são mais estranhas do que fazer no papel, mas eu sei que você pegará o jeito muito rápido."
      ]
    },
    {
      "cell_type": "code",
      "metadata": {
        "id": "fAbPTevOwVGe",
        "colab_type": "code",
        "colab": {
          "base_uri": "https://localhost:8080/",
          "height": 38
        },
        "outputId": "8d2f3467-734f-4be4-c485-c94efea83db7"
      },
      "source": [
        "# Vamos para mais um exemplo\n",
        "h = Lambda(x,sin(x)/x)\n",
        "mview(h)"
      ],
      "execution_count": 13,
      "outputs": [
        {
          "output_type": "display_data",
          "data": {
            "text/html": [
              "<script src='https://cdnjs.cloudflare.com/ajax/libs/mathjax/2.7.3/latest.js?config=default'></script>"
            ],
            "text/plain": [
              "<IPython.core.display.HTML object>"
            ]
          },
          "metadata": {
            "tags": []
          }
        },
        {
          "output_type": "execute_result",
          "data": {
            "text/latex": "$$\\left( x \\mapsto \\frac{1}{x} \\sin{\\left (x \\right )} \\right)$$",
            "text/plain": [
              "<IPython.core.display.Math object>"
            ]
          },
          "metadata": {
            "tags": []
          },
          "execution_count": 13
        }
      ]
    },
    {
      "cell_type": "code",
      "metadata": {
        "id": "lhWEzXlCwj1_",
        "colab_type": "code",
        "colab": {
          "base_uri": "https://localhost:8080/",
          "height": 36
        },
        "outputId": "28188e78-fcbf-4cc4-aae6-83bef8718d07"
      },
      "source": [
        "# Definimos nossa função h e agora basta fazer o limite\n",
        "mview(limit(h(x),x,0))\n"
      ],
      "execution_count": 14,
      "outputs": [
        {
          "output_type": "display_data",
          "data": {
            "text/html": [
              "<script src='https://cdnjs.cloudflare.com/ajax/libs/mathjax/2.7.3/latest.js?config=default'></script>"
            ],
            "text/plain": [
              "<IPython.core.display.HTML object>"
            ]
          },
          "metadata": {
            "tags": []
          }
        },
        {
          "output_type": "execute_result",
          "data": {
            "text/latex": "$$1$$",
            "text/plain": [
              "<IPython.core.display.Math object>"
            ]
          },
          "metadata": {
            "tags": []
          },
          "execution_count": 14
        }
      ]
    },
    {
      "cell_type": "code",
      "metadata": {
        "id": "B3d2_PCPxDkK",
        "colab_type": "code",
        "colab": {
          "base_uri": "https://localhost:8080/",
          "height": 38
        },
        "outputId": "9f9e3dfe-2628-4ada-8b43-c263388a58e4"
      },
      "source": [
        "# Mais um exeplo para fixar \n",
        "K= Lambda(x,ln(x)/x**2)\n",
        "mview(K)"
      ],
      "execution_count": 15,
      "outputs": [
        {
          "output_type": "display_data",
          "data": {
            "text/html": [
              "<script src='https://cdnjs.cloudflare.com/ajax/libs/mathjax/2.7.3/latest.js?config=default'></script>"
            ],
            "text/plain": [
              "<IPython.core.display.HTML object>"
            ]
          },
          "metadata": {
            "tags": []
          }
        },
        {
          "output_type": "execute_result",
          "data": {
            "text/latex": "$$\\left( x \\mapsto \\frac{1}{x^{2}} \\log{\\left (x \\right )} \\right)$$",
            "text/plain": [
              "<IPython.core.display.Math object>"
            ]
          },
          "metadata": {
            "tags": []
          },
          "execution_count": 15
        }
      ]
    },
    {
      "cell_type": "code",
      "metadata": {
        "id": "OPkyUEyAyfxx",
        "colab_type": "code",
        "colab": {
          "base_uri": "https://localhost:8080/",
          "height": 36
        },
        "outputId": "b2824f8a-8d27-45d6-d576-deafab04c5aa"
      },
      "source": [
        "# Definimos nossa função K e agora basta fazer o limite\n",
        "mview(limit(K(x),x,0))"
      ],
      "execution_count": 16,
      "outputs": [
        {
          "output_type": "display_data",
          "data": {
            "text/html": [
              "<script src='https://cdnjs.cloudflare.com/ajax/libs/mathjax/2.7.3/latest.js?config=default'></script>"
            ],
            "text/plain": [
              "<IPython.core.display.HTML object>"
            ]
          },
          "metadata": {
            "tags": []
          }
        },
        {
          "output_type": "execute_result",
          "data": {
            "text/latex": "$$-\\infty$$",
            "text/plain": [
              "<IPython.core.display.Math object>"
            ]
          },
          "metadata": {
            "tags": []
          },
          "execution_count": 16
        }
      ]
    },
    {
      "cell_type": "markdown",
      "metadata": {
        "id": "tUzZWLyTwOqX",
        "colab_type": "text"
      },
      "source": [
        "##**Limites laterais**"
      ]
    },
    {
      "cell_type": "markdown",
      "metadata": {
        "id": "13Od8qEWwOnU",
        "colab_type": "text"
      },
      "source": [
        "Por definição se os limites laterais (pela esquerda e pela direita) não forem iguais isso mostra que o limite da função não existe."
      ]
    },
    {
      "cell_type": "markdown",
      "metadata": {
        "id": "d-LYDgyWwOj8",
        "colab_type": "text"
      },
      "source": [
        "![alt text](https://s0.wp.com/latex.php?latex=%5Cdisplaystyle%5Clim%5Climits_%7Bx%5Crightarrow+a%5E%7B%2B%7D%7Df%28x%29%3DL_%7B1%7D&bg=ffffff&fg=000000&s=2) \n",
        "\n",
        "Esse é um limite pela direita, perceba o sinal de **+** na parte superior da letra a."
      ]
    },
    {
      "cell_type": "markdown",
      "metadata": {
        "id": "4knIDwfMwOhn",
        "colab_type": "text"
      },
      "source": [
        "![alt text](https://s0.wp.com/latex.php?latex=%5Cdisplaystyle%5Clim%5Climits_%7Bx%5Crightarrow+a%5E%7B-%7D%7Df%28x%29%3DL_%7B2%7D&bg=ffffff&fg=000000&s=2)\n",
        "\n",
        "Esse é um limite pela esquerda, perceba o sinal **-** na parte superior da letra a ."
      ]
    },
    {
      "cell_type": "markdown",
      "metadata": {
        "id": "6MOjcu1p1B14",
        "colab_type": "text"
      },
      "source": [
        "Por padrão, o comando limit computa o limite lateral pela direita. Por exemplo:"
      ]
    },
    {
      "cell_type": "code",
      "metadata": {
        "id": "fneKm40H2bRZ",
        "colab_type": "code",
        "colab": {
          "base_uri": "https://localhost:8080/",
          "height": 36
        },
        "outputId": "2fec774d-5f5d-4270-bc2e-9f48d0863651"
      },
      "source": [
        "mview(limit(f(x),x,1))"
      ],
      "execution_count": 57,
      "outputs": [
        {
          "output_type": "display_data",
          "data": {
            "text/html": [
              "<script src='https://cdnjs.cloudflare.com/ajax/libs/mathjax/2.7.3/latest.js?config=default'></script>"
            ],
            "text/plain": [
              "<IPython.core.display.HTML object>"
            ]
          },
          "metadata": {
            "tags": []
          }
        },
        {
          "output_type": "execute_result",
          "data": {
            "text/latex": "$$-3$$",
            "text/plain": [
              "<IPython.core.display.Math object>"
            ]
          },
          "metadata": {
            "tags": []
          },
          "execution_count": 57
        }
      ]
    },
    {
      "cell_type": "markdown",
      "metadata": {
        "id": "FTt_zywU0waO",
        "colab_type": "text"
      },
      "source": [
        "Para calcularmos o limite pela esquerda basta aumentar mais um argumento no comando limit:\n"
      ]
    },
    {
      "cell_type": "code",
      "metadata": {
        "id": "M2hIU33M3IXB",
        "colab_type": "code",
        "colab": {
          "base_uri": "https://localhost:8080/",
          "height": 36
        },
        "outputId": "cd424d0c-9405-48e5-82f8-364bbd03bac5"
      },
      "source": [
        "mview(limit(f(x),x,1,'-'))"
      ],
      "execution_count": 58,
      "outputs": [
        {
          "output_type": "display_data",
          "data": {
            "text/html": [
              "<script src='https://cdnjs.cloudflare.com/ajax/libs/mathjax/2.7.3/latest.js?config=default'></script>"
            ],
            "text/plain": [
              "<IPython.core.display.HTML object>"
            ]
          },
          "metadata": {
            "tags": []
          }
        },
        {
          "output_type": "execute_result",
          "data": {
            "text/latex": "$$-3$$",
            "text/plain": [
              "<IPython.core.display.Math object>"
            ]
          },
          "metadata": {
            "tags": []
          },
          "execution_count": 58
        }
      ]
    },
    {
      "cell_type": "markdown",
      "metadata": {
        "id": "LOrjhOQu3RZs",
        "colab_type": "text"
      },
      "source": [
        "Percebeu que deu o mesmo resultado, logo o limite existe, agora se tivermos, por exemplo:"
      ]
    },
    {
      "cell_type": "code",
      "metadata": {
        "id": "42lCMKbt3W_x",
        "colab_type": "code",
        "colab": {
          "base_uri": "https://localhost:8080/",
          "height": 36
        },
        "outputId": "37b0b451-5692-415e-f6b2-e1f5acb271c9"
      },
      "source": [
        "mview(limit(cos(x)/x,x,0))"
      ],
      "execution_count": 59,
      "outputs": [
        {
          "output_type": "display_data",
          "data": {
            "text/html": [
              "<script src='https://cdnjs.cloudflare.com/ajax/libs/mathjax/2.7.3/latest.js?config=default'></script>"
            ],
            "text/plain": [
              "<IPython.core.display.HTML object>"
            ]
          },
          "metadata": {
            "tags": []
          }
        },
        {
          "output_type": "execute_result",
          "data": {
            "text/latex": "$$\\infty$$",
            "text/plain": [
              "<IPython.core.display.Math object>"
            ]
          },
          "metadata": {
            "tags": []
          },
          "execution_count": 59
        }
      ]
    },
    {
      "cell_type": "code",
      "metadata": {
        "id": "gMbYaF_O3XFY",
        "colab_type": "code",
        "colab": {
          "base_uri": "https://localhost:8080/",
          "height": 36
        },
        "outputId": "dab7552b-a161-4c97-d8e8-d4f7272f2568"
      },
      "source": [
        "mview(limit(cos(x)/x,x,0,'-'))"
      ],
      "execution_count": 60,
      "outputs": [
        {
          "output_type": "display_data",
          "data": {
            "text/html": [
              "<script src='https://cdnjs.cloudflare.com/ajax/libs/mathjax/2.7.3/latest.js?config=default'></script>"
            ],
            "text/plain": [
              "<IPython.core.display.HTML object>"
            ]
          },
          "metadata": {
            "tags": []
          }
        },
        {
          "output_type": "execute_result",
          "data": {
            "text/latex": "$$-\\infty$$",
            "text/plain": [
              "<IPython.core.display.Math object>"
            ]
          },
          "metadata": {
            "tags": []
          },
          "execution_count": 60
        }
      ]
    },
    {
      "cell_type": "markdown",
      "metadata": {
        "id": "SSvfFixd3XhJ",
        "colab_type": "text"
      },
      "source": [
        "Percebeu que os resultados deram diferentes? logo o limite de cos(x)/x não existe quando x tende para 0. "
      ]
    },
    {
      "cell_type": "code",
      "metadata": {
        "id": "pdcN7RID5tPu",
        "colab_type": "code",
        "colab": {
          "base_uri": "https://localhost:8080/",
          "height": 36
        },
        "outputId": "5a2fdac2-08b9-4dfe-b244-a3a5c24e9834"
      },
      "source": [
        "# Vamos para mais um exemplo suponha que sua f(x)= 1/x vamos ver se esse limite existe:\n",
        "# pela direita:\n",
        "mview(limit(1/x,x,0))\n",
        "\n"
      ],
      "execution_count": 21,
      "outputs": [
        {
          "output_type": "display_data",
          "data": {
            "text/html": [
              "<script src='https://cdnjs.cloudflare.com/ajax/libs/mathjax/2.7.3/latest.js?config=default'></script>"
            ],
            "text/plain": [
              "<IPython.core.display.HTML object>"
            ]
          },
          "metadata": {
            "tags": []
          }
        },
        {
          "output_type": "execute_result",
          "data": {
            "text/latex": "$$\\infty$$",
            "text/plain": [
              "<IPython.core.display.Math object>"
            ]
          },
          "metadata": {
            "tags": []
          },
          "execution_count": 21
        }
      ]
    },
    {
      "cell_type": "code",
      "metadata": {
        "id": "YUoAKqik5tdD",
        "colab_type": "code",
        "colab": {
          "base_uri": "https://localhost:8080/",
          "height": 36
        },
        "outputId": "7f7c420b-8b19-4967-d8d7-0ae689388916"
      },
      "source": [
        "# pela esquerda:\n",
        "mview(limit(1/x,x,0,'-'))"
      ],
      "execution_count": 22,
      "outputs": [
        {
          "output_type": "display_data",
          "data": {
            "text/html": [
              "<script src='https://cdnjs.cloudflare.com/ajax/libs/mathjax/2.7.3/latest.js?config=default'></script>"
            ],
            "text/plain": [
              "<IPython.core.display.HTML object>"
            ]
          },
          "metadata": {
            "tags": []
          }
        },
        {
          "output_type": "execute_result",
          "data": {
            "text/latex": "$$-\\infty$$",
            "text/plain": [
              "<IPython.core.display.Math object>"
            ]
          },
          "metadata": {
            "tags": []
          },
          "execution_count": 22
        }
      ]
    },
    {
      "cell_type": "markdown",
      "metadata": {
        "id": "VBshoj-76TCo",
        "colab_type": "text"
      },
      "source": [
        "Logo o limite da função f(x)=1/x não existe."
      ]
    },
    {
      "cell_type": "markdown",
      "metadata": {
        "id": "XSpmezyG3Xxc",
        "colab_type": "text"
      },
      "source": [
        "##**Limites no infitino**\n"
      ]
    },
    {
      "cell_type": "markdown",
      "metadata": {
        "id": "lrz7uDpb5k2R",
        "colab_type": "text"
      },
      "source": [
        "Agora vamos ver o que acontece quando queremos que o limite tenda para o infinito \n",
        "\n",
        "![alt text](https://www.e-scola.edu.gov.cv/images/matematica/imgs_limites/img5.jpg)"
      ]
    },
    {
      "cell_type": "code",
      "metadata": {
        "id": "czshKUId3XDo",
        "colab_type": "code",
        "colab": {
          "base_uri": "https://localhost:8080/",
          "height": 36
        },
        "outputId": "a90c385a-9255-4b6b-d2af-72ed9b6b6e77"
      },
      "source": [
        "# Para mais infinito:\n",
        "mview(limit(1/x, x, oo))"
      ],
      "execution_count": 23,
      "outputs": [
        {
          "output_type": "display_data",
          "data": {
            "text/html": [
              "<script src='https://cdnjs.cloudflare.com/ajax/libs/mathjax/2.7.3/latest.js?config=default'></script>"
            ],
            "text/plain": [
              "<IPython.core.display.HTML object>"
            ]
          },
          "metadata": {
            "tags": []
          }
        },
        {
          "output_type": "execute_result",
          "data": {
            "text/latex": "$$0$$",
            "text/plain": [
              "<IPython.core.display.Math object>"
            ]
          },
          "metadata": {
            "tags": []
          },
          "execution_count": 23
        }
      ]
    },
    {
      "cell_type": "code",
      "metadata": {
        "id": "zrLK4S8o5lps",
        "colab_type": "code",
        "colab": {
          "base_uri": "https://localhost:8080/",
          "height": 36
        },
        "outputId": "f96c54e3-9eae-4fa2-c849-6cd1da559ce3"
      },
      "source": [
        "# Para menos infinito:\n",
        "mview(limit(1/x, x, -oo))"
      ],
      "execution_count": 24,
      "outputs": [
        {
          "output_type": "display_data",
          "data": {
            "text/html": [
              "<script src='https://cdnjs.cloudflare.com/ajax/libs/mathjax/2.7.3/latest.js?config=default'></script>"
            ],
            "text/plain": [
              "<IPython.core.display.HTML object>"
            ]
          },
          "metadata": {
            "tags": []
          }
        },
        {
          "output_type": "execute_result",
          "data": {
            "text/latex": "$$0$$",
            "text/plain": [
              "<IPython.core.display.Math object>"
            ]
          },
          "metadata": {
            "tags": []
          },
          "execution_count": 24
        }
      ]
    },
    {
      "cell_type": "code",
      "metadata": {
        "id": "Q1BUzMij5lyk",
        "colab_type": "code",
        "colab": {
          "base_uri": "https://localhost:8080/",
          "height": 36
        },
        "outputId": "2d8af50f-168a-40ee-994c-093a2ad7680c"
      },
      "source": [
        "# Veremos mais um exemplo seja então f(x)=x+2\n",
        "# Para mais infinito \n",
        "mview(limit(x+2, x, oo))"
      ],
      "execution_count": 25,
      "outputs": [
        {
          "output_type": "display_data",
          "data": {
            "text/html": [
              "<script src='https://cdnjs.cloudflare.com/ajax/libs/mathjax/2.7.3/latest.js?config=default'></script>"
            ],
            "text/plain": [
              "<IPython.core.display.HTML object>"
            ]
          },
          "metadata": {
            "tags": []
          }
        },
        {
          "output_type": "execute_result",
          "data": {
            "text/latex": "$$\\infty$$",
            "text/plain": [
              "<IPython.core.display.Math object>"
            ]
          },
          "metadata": {
            "tags": []
          },
          "execution_count": 25
        }
      ]
    },
    {
      "cell_type": "code",
      "metadata": {
        "id": "QGw9UCU-8GAB",
        "colab_type": "code",
        "colab": {
          "base_uri": "https://localhost:8080/",
          "height": 36
        },
        "outputId": "07f5b0ce-91a2-41c5-a6df-0cef1b600cd3"
      },
      "source": [
        "# Para menos infinito \n",
        "mview(limit(x+2, x, -oo))"
      ],
      "execution_count": 26,
      "outputs": [
        {
          "output_type": "display_data",
          "data": {
            "text/html": [
              "<script src='https://cdnjs.cloudflare.com/ajax/libs/mathjax/2.7.3/latest.js?config=default'></script>"
            ],
            "text/plain": [
              "<IPython.core.display.HTML object>"
            ]
          },
          "metadata": {
            "tags": []
          }
        },
        {
          "output_type": "execute_result",
          "data": {
            "text/latex": "$$-\\infty$$",
            "text/plain": [
              "<IPython.core.display.Math object>"
            ]
          },
          "metadata": {
            "tags": []
          },
          "execution_count": 26
        }
      ]
    },
    {
      "cell_type": "code",
      "metadata": {
        "id": "Z7LkHsKL8Qdi",
        "colab_type": "code",
        "colab": {
          "base_uri": "https://localhost:8080/",
          "height": 36
        },
        "outputId": "da5a62a1-cd51-442f-c514-0b694284aa99"
      },
      "source": [
        "# Suponha agora que sua f(x) seja e^x\n",
        "# Para mais infinito\n",
        "mview(limit(exp(x), x, oo))"
      ],
      "execution_count": 27,
      "outputs": [
        {
          "output_type": "display_data",
          "data": {
            "text/html": [
              "<script src='https://cdnjs.cloudflare.com/ajax/libs/mathjax/2.7.3/latest.js?config=default'></script>"
            ],
            "text/plain": [
              "<IPython.core.display.HTML object>"
            ]
          },
          "metadata": {
            "tags": []
          }
        },
        {
          "output_type": "execute_result",
          "data": {
            "text/latex": "$$\\infty$$",
            "text/plain": [
              "<IPython.core.display.Math object>"
            ]
          },
          "metadata": {
            "tags": []
          },
          "execution_count": 27
        }
      ]
    },
    {
      "cell_type": "code",
      "metadata": {
        "id": "ZOenaPde8mUy",
        "colab_type": "code",
        "colab": {
          "base_uri": "https://localhost:8080/",
          "height": 36
        },
        "outputId": "8616fc54-e673-4def-8bf8-659be11acd7e"
      },
      "source": [
        "# Para menos infinito \n",
        "mview(limit(x+2, x, -oo))"
      ],
      "execution_count": 28,
      "outputs": [
        {
          "output_type": "display_data",
          "data": {
            "text/html": [
              "<script src='https://cdnjs.cloudflare.com/ajax/libs/mathjax/2.7.3/latest.js?config=default'></script>"
            ],
            "text/plain": [
              "<IPython.core.display.HTML object>"
            ]
          },
          "metadata": {
            "tags": []
          }
        },
        {
          "output_type": "execute_result",
          "data": {
            "text/latex": "$$-\\infty$$",
            "text/plain": [
              "<IPython.core.display.Math object>"
            ]
          },
          "metadata": {
            "tags": []
          },
          "execution_count": 28
        }
      ]
    },
    {
      "cell_type": "code",
      "metadata": {
        "id": "-D4_4MTX8td7",
        "colab_type": "code",
        "colab": {
          "base_uri": "https://localhost:8080/",
          "height": 36
        },
        "outputId": "77599cd9-f41d-4e77-a983-96bb665bef71"
      },
      "source": [
        "# Suponha agora que sua f(x) seja 1/e^x\n",
        "# Para mais infinito\n",
        "mview(limit(1/exp(x), x, oo))"
      ],
      "execution_count": 29,
      "outputs": [
        {
          "output_type": "display_data",
          "data": {
            "text/html": [
              "<script src='https://cdnjs.cloudflare.com/ajax/libs/mathjax/2.7.3/latest.js?config=default'></script>"
            ],
            "text/plain": [
              "<IPython.core.display.HTML object>"
            ]
          },
          "metadata": {
            "tags": []
          }
        },
        {
          "output_type": "execute_result",
          "data": {
            "text/latex": "$$0$$",
            "text/plain": [
              "<IPython.core.display.Math object>"
            ]
          },
          "metadata": {
            "tags": []
          },
          "execution_count": 29
        }
      ]
    },
    {
      "cell_type": "code",
      "metadata": {
        "id": "yP1E5sTo84QU",
        "colab_type": "code",
        "colab": {
          "base_uri": "https://localhost:8080/",
          "height": 36
        },
        "outputId": "09e36ade-9fd5-43eb-8fff-9dca52a58717"
      },
      "source": [
        "# Para menos infinito\n",
        "mview(limit(1/exp(x), x, -oo))"
      ],
      "execution_count": 30,
      "outputs": [
        {
          "output_type": "display_data",
          "data": {
            "text/html": [
              "<script src='https://cdnjs.cloudflare.com/ajax/libs/mathjax/2.7.3/latest.js?config=default'></script>"
            ],
            "text/plain": [
              "<IPython.core.display.HTML object>"
            ]
          },
          "metadata": {
            "tags": []
          }
        },
        {
          "output_type": "execute_result",
          "data": {
            "text/latex": "$$\\infty$$",
            "text/plain": [
              "<IPython.core.display.Math object>"
            ]
          },
          "metadata": {
            "tags": []
          },
          "execution_count": 30
        }
      ]
    },
    {
      "cell_type": "markdown",
      "metadata": {
        "id": "CfrZswym5l6z",
        "colab_type": "text"
      },
      "source": [
        "##**Gráficos de limites**"
      ]
    },
    {
      "cell_type": "markdown",
      "metadata": {
        "id": "AyG3knuW9U1E",
        "colab_type": "text"
      },
      "source": [
        "Com a biblioteca <a href=\"https://matplotlib.org/\"> matplotlib</a> é muito simples fazer os esboços dos gráficos dos limites, sei que em muitas questões seu professor pede o gráfico e tem alguns gráficos bem complicados para fazer no papel, justamente quando você esta começando na matéria."
      ]
    },
    {
      "cell_type": "markdown",
      "metadata": {
        "id": "hrX4m6nm-TKm",
        "colab_type": "text"
      },
      "source": [
        "Como você ja deve saber por ter visto a introdução, devemos importar a biblioteca matplotlib\n"
      ]
    },
    {
      "cell_type": "code",
      "metadata": {
        "id": "P81I3QP9-Dk8",
        "colab_type": "code",
        "colab": {}
      },
      "source": [
        "\n",
        "from matplotlib import pyplot as plt\n",
        "from matplotlib import rcParams # apenas para mudar o tamanho da figura\n",
        "rcParams['figure.figsize'] = 12, 8 # tamanho em polegadas"
      ],
      "execution_count": 34,
      "outputs": []
    },
    {
      "cell_type": "code",
      "metadata": {
        "id": "-djOr1qOu2fe",
        "colab_type": "code",
        "colab": {}
      },
      "source": [
        "import warnings\n",
        "warnings.filterwarnings(\"ignore\", category=UserWarning)\n",
        "# Para tirar os avisos da biblioteca Matplotlib"
      ],
      "execution_count": 80,
      "outputs": []
    },
    {
      "cell_type": "code",
      "metadata": {
        "id": "FIKXaJWu-7JS",
        "colab_type": "code",
        "colab": {
          "base_uri": "https://localhost:8080/",
          "height": 522
        },
        "outputId": "98f28d62-b70d-4de5-8981-a1e2d3507d35"
      },
      "source": [
        "plot(h(x))\n"
      ],
      "execution_count": 81,
      "outputs": [
        {
          "output_type": "display_data",
          "data": {
            "image/png": "[encoded data removed]",
            "text/plain": [
              "<Figure size 864x576 with 1 Axes>"
            ]
          },
          "metadata": {
            "tags": [],
            "needs_background": "light"
          }
        },
        {
          "output_type": "execute_result",
          "data": {
            "text/plain": [
              "<sympy.plotting.plot.Plot at 0x7f6a2ed3edd8>"
            ]
          },
          "metadata": {
            "tags": []
          },
          "execution_count": 81
        }
      ]
    },
    {
      "cell_type": "code",
      "metadata": {
        "id": "CedklhdyuSx3",
        "colab_type": "code",
        "colab": {
          "base_uri": "https://localhost:8080/",
          "height": 522
        },
        "outputId": "e05437b7-47c2-4128-ab62-6a062b43ce81"
      },
      "source": [
        "plot(f(x))"
      ],
      "execution_count": 82,
      "outputs": [
        {
          "output_type": "display_data",
          "data": {
            "image/png": "[encoded data removed]",
            "text/plain": [
              "<Figure size 864x576 with 1 Axes>"
            ]
          },
          "metadata": {
            "tags": [],
            "needs_background": "light"
          }
        },
        {
          "output_type": "execute_result",
          "data": {
            "text/plain": [
              "<sympy.plotting.plot.Plot at 0x7f6a2aeac630>"
            ]
          },
          "metadata": {
            "tags": []
          },
          "execution_count": 82
        }
      ]
    },
    {
      "cell_type": "markdown",
      "metadata": {
        "id": "dqD_t0EP9WmD",
        "colab_type": "text"
      },
      "source": [
        ""
      ]
    }
  ]
}